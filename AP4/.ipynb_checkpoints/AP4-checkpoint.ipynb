{
 "cells": [
  {
   "cell_type": "markdown",
   "metadata": {},
   "source": [
    "# Kholby Lawson\n",
    "\n",
    "CS544 AP4\n",
    "\n",
    "Data set:\n",
    "\n",
    "    #  Attribute\n",
    "    -- -------------------------------------------\n",
    "    1. area A, \n",
    "    2. perimeter P, \n",
    "    3. compactness C = 4*pi*A/P^2, \n",
    "    4. length of kernel, \n",
    "    5. width of kernel, \n",
    "    6. asymmetry coefficient \n",
    "    7. length of kernel groove. \n",
    "\n",
    "All of these parameters were real-valued continuous."
   ]
  },
  {
   "cell_type": "code",
   "execution_count": 10,
   "metadata": {
    "collapsed": false
   },
   "outputs": [
    {
     "name": "stdout",
     "output_type": "stream",
     "text": [
      "Accuracy:   0.895238095238\n",
      "\n",
      "Centroids:\n"
     ]
    },
    {
     "data": {
      "text/html": [
       "<div>\n",
       "<table border=\"1\" class=\"dataframe\">\n",
       "  <thead>\n",
       "    <tr style=\"text-align: right;\">\n",
       "      <th></th>\n",
       "      <th>area</th>\n",
       "      <th>perimeter</th>\n",
       "      <th>compactness</th>\n",
       "      <th>length</th>\n",
       "      <th>width</th>\n",
       "      <th>asymmetry coefficient</th>\n",
       "      <th>groove</th>\n",
       "      <th>type</th>\n",
       "    </tr>\n",
       "  </thead>\n",
       "  <tbody>\n",
       "    <tr>\n",
       "      <th>0</th>\n",
       "      <td>18.721803</td>\n",
       "      <td>16.297377</td>\n",
       "      <td>0.885087</td>\n",
       "      <td>6.208934</td>\n",
       "      <td>3.722672</td>\n",
       "      <td>3.603590</td>\n",
       "      <td>6.066098</td>\n",
       "      <td>2</td>\n",
       "    </tr>\n",
       "    <tr>\n",
       "      <th>1</th>\n",
       "      <td>11.964416</td>\n",
       "      <td>13.274805</td>\n",
       "      <td>0.852200</td>\n",
       "      <td>5.229286</td>\n",
       "      <td>2.872922</td>\n",
       "      <td>4.759740</td>\n",
       "      <td>5.088519</td>\n",
       "      <td>3</td>\n",
       "    </tr>\n",
       "    <tr>\n",
       "      <th>2</th>\n",
       "      <td>14.648472</td>\n",
       "      <td>14.460417</td>\n",
       "      <td>0.879167</td>\n",
       "      <td>5.563778</td>\n",
       "      <td>3.277903</td>\n",
       "      <td>2.648933</td>\n",
       "      <td>5.192319</td>\n",
       "      <td>1</td>\n",
       "    </tr>\n",
       "  </tbody>\n",
       "</table>\n",
       "</div>"
      ],
      "text/plain": [
       "        area  perimeter  compactness    length     width  \\\n",
       "0  18.721803  16.297377     0.885087  6.208934  3.722672   \n",
       "1  11.964416  13.274805     0.852200  5.229286  2.872922   \n",
       "2  14.648472  14.460417     0.879167  5.563778  3.277903   \n",
       "\n",
       "   asymmetry coefficient    groove  type  \n",
       "0               3.603590  6.066098     2  \n",
       "1               4.759740  5.088519     3  \n",
       "2               2.648933  5.192319     1  "
      ]
     },
     "execution_count": 10,
     "metadata": {},
     "output_type": "execute_result"
    }
   ],
   "source": [
    "import pandas as pd\n",
    "import numpy as np\n",
    "\n",
    "from sklearn.cluster import KMeans\n",
    "from collections import Counter\n",
    "\n",
    "#read raw data\n",
    "names=['area', 'perimeter', 'compactness', 'length', 'width', 'asymmetry coefficient', 'groove', 'type']\n",
    "raw_data = pd.read_table('seeds_dataset.txt', delimiter='\\t', names=names)\n",
    "data = raw_data[names[0:len(names)-1]]\n",
    "variety = raw_data['type']\n",
    "\n",
    "k = 3\n",
    "\n",
    "kmeans = KMeans(n_clusters=k)\n",
    "clusters = kmeans.fit_predict(data)\n",
    "cvar = [[] for _ in range(k)]\n",
    "total = 0\n",
    "\n",
    "for i in range(0,k):\n",
    "    c = np.where(clusters==i)[0].tolist()\n",
    "    cv = variety[c]\n",
    "    count = Counter(cv).most_common(1)\n",
    "    cvar[i] = count[0][0]\n",
    "    total = total + count[0][1]\n",
    "\n",
    "print 'Accuracy:  ', float(total)/len(variety)\n",
    "centers = kmeans.cluster_centers_.tolist()\n",
    "\n",
    "print '\\nCentroids:'\n",
    "\n",
    "for i in range(0,k):\n",
    "    centers[i].append(cvar[i])\n",
    "\n",
    "pd.DataFrame(centers, columns=names)"
   ]
  },
  {
   "cell_type": "markdown",
   "metadata": {},
   "source": [
    "The dataset contains several real-world measurements for 3 different types of wheat grain.  The centroids found by K-means clustering, shown in the table above, represent the \"average\" measurements for each type of grain.  The accuracy of the algorithm was about 89.5%."
   ]
  }
 ],
 "metadata": {
  "kernelspec": {
   "display_name": "Python 2",
   "language": "python",
   "name": "python2"
  },
  "language_info": {
   "codemirror_mode": {
    "name": "ipython",
    "version": 2
   },
   "file_extension": ".py",
   "mimetype": "text/x-python",
   "name": "python",
   "nbconvert_exporter": "python",
   "pygments_lexer": "ipython2",
   "version": "2.7.6"
  }
 },
 "nbformat": 4,
 "nbformat_minor": 0
}
