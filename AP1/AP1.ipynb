{
 "cells": [
  {
   "cell_type": "markdown",
   "metadata": {},
   "source": [
    "# Kholby Lawson\n",
    "CS 544\n",
    "AP1"
   ]
  },
  {
   "cell_type": "code",
   "execution_count": 2,
   "metadata": {
    "collapsed": true
   },
   "outputs": [],
   "source": [
    "# imports\n",
    "import pandas as pd\n",
    "import seaborn as sns\n",
    "import statsmodels.formula.api as smf\n",
    "from sklearn.linear_model import LinearRegression\n",
    "from sklearn import metrics\n",
    "from sklearn.cross_validation import train_test_split\n",
    "import numpy as np\n",
    "\n",
    "# allow plots to appear directly in the notebook\n",
    "%matplotlib inline"
   ]
  },
  {
   "cell_type": "code",
   "execution_count": 3,
   "metadata": {
    "collapsed": false
   },
   "outputs": [
    {
     "data": {
      "text/html": [
       "<div>\n",
       "<table border=\"1\" class=\"dataframe\">\n",
       "  <thead>\n",
       "    <tr style=\"text-align: right;\">\n",
       "      <th></th>\n",
       "      <th>MPG</th>\n",
       "      <th>Cylinders</th>\n",
       "      <th>Displacement</th>\n",
       "      <th>Horsepower</th>\n",
       "      <th>Weight</th>\n",
       "      <th>Acceleration</th>\n",
       "      <th>Model Year</th>\n",
       "      <th>Origin</th>\n",
       "      <th>Car Name</th>\n",
       "    </tr>\n",
       "  </thead>\n",
       "  <tbody>\n",
       "    <tr>\n",
       "      <th>0</th>\n",
       "      <td>18</td>\n",
       "      <td>8</td>\n",
       "      <td>307</td>\n",
       "      <td>130</td>\n",
       "      <td>3504</td>\n",
       "      <td>12.0</td>\n",
       "      <td>70</td>\n",
       "      <td>1</td>\n",
       "      <td>chevrolet chevelle malibu</td>\n",
       "    </tr>\n",
       "    <tr>\n",
       "      <th>1</th>\n",
       "      <td>15</td>\n",
       "      <td>8</td>\n",
       "      <td>350</td>\n",
       "      <td>165</td>\n",
       "      <td>3693</td>\n",
       "      <td>11.5</td>\n",
       "      <td>70</td>\n",
       "      <td>1</td>\n",
       "      <td>buick skylark 320</td>\n",
       "    </tr>\n",
       "    <tr>\n",
       "      <th>2</th>\n",
       "      <td>18</td>\n",
       "      <td>8</td>\n",
       "      <td>318</td>\n",
       "      <td>150</td>\n",
       "      <td>3436</td>\n",
       "      <td>11.0</td>\n",
       "      <td>70</td>\n",
       "      <td>1</td>\n",
       "      <td>plymouth satellite</td>\n",
       "    </tr>\n",
       "    <tr>\n",
       "      <th>3</th>\n",
       "      <td>16</td>\n",
       "      <td>8</td>\n",
       "      <td>304</td>\n",
       "      <td>150</td>\n",
       "      <td>3433</td>\n",
       "      <td>12.0</td>\n",
       "      <td>70</td>\n",
       "      <td>1</td>\n",
       "      <td>amc rebel sst</td>\n",
       "    </tr>\n",
       "    <tr>\n",
       "      <th>4</th>\n",
       "      <td>17</td>\n",
       "      <td>8</td>\n",
       "      <td>302</td>\n",
       "      <td>140</td>\n",
       "      <td>3449</td>\n",
       "      <td>10.5</td>\n",
       "      <td>70</td>\n",
       "      <td>1</td>\n",
       "      <td>ford torino</td>\n",
       "    </tr>\n",
       "  </tbody>\n",
       "</table>\n",
       "</div>"
      ],
      "text/plain": [
       "   MPG  Cylinders  Displacement  Horsepower  Weight  Acceleration  Model Year  \\\n",
       "0   18          8           307         130    3504          12.0          70   \n",
       "1   15          8           350         165    3693          11.5          70   \n",
       "2   18          8           318         150    3436          11.0          70   \n",
       "3   16          8           304         150    3433          12.0          70   \n",
       "4   17          8           302         140    3449          10.5          70   \n",
       "\n",
       "   Origin                   Car Name  \n",
       "0       1  chevrolet chevelle malibu  \n",
       "1       1          buick skylark 320  \n",
       "2       1         plymouth satellite  \n",
       "3       1              amc rebel sst  \n",
       "4       1                ford torino  "
      ]
     },
     "execution_count": 3,
     "metadata": {},
     "output_type": "execute_result"
    }
   ],
   "source": [
    "'''\n",
    "    1. mpg:           continuous\n",
    "    2. cylinders:     multi-valued discrete\n",
    "    3. displacement:  continuous\n",
    "    4. horsepower:    continuous\n",
    "    5. weight:        continuous\n",
    "    6. acceleration:  continuous\n",
    "    7. model year:    multi-valued discrete\n",
    "    8. origin:        multi-valued discrete\n",
    "    9. car name:      string (unique for each instance)\n",
    "'''\n",
    "\n",
    "names=['MPG', 'Cylinders', 'Displacement', 'Horsepower', 'Weight', 'Acceleration', 'Model Year', 'Origin','Car Name']\n",
    "raw_data = pd.read_table('http://archive.ics.uci.edu/ml/machine-learning-databases/auto-mpg/auto-mpg.data', delim_whitespace=True, names=names, na_values=['?'])\n",
    "raw_data.head()"
   ]
  },
  {
   "cell_type": "code",
   "execution_count": 21,
   "metadata": {
    "collapsed": false
   },
   "outputs": [
    {
     "data": {
      "text/plain": [
       "<seaborn.axisgrid.PairGrid at 0x7fa1ec3f2b50>"
      ]
     },
     "execution_count": 21,
     "metadata": {},
     "output_type": "execute_result"
    },
    {
     "data": {
      "image/png": "[encoded data removed]",
      "text/plain": [
       "<matplotlib.figure.Figure at 0x7fa1ec3f2ad0>"
      ]
     },
     "metadata": {},
     "output_type": "display_data"
    }
   ],
   "source": [
    "features = ['Displacement', 'Horsepower', 'Weight', 'Acceleration']\n",
    "data = raw_data.dropna()\n",
    "sns.pairplot(data, x_vars=['Displacement','Horsepower', 'Weight', 'Acceleration'], y_vars='MPG', aspect=1.5, kind='reg')"
   ]
  },
  {
   "cell_type": "code",
   "execution_count": 23,
   "metadata": {
    "collapsed": false
   },
   "outputs": [
    {
     "name": "stdout",
     "output_type": "stream",
     "text": [
      "[-0.00600087 -0.04360773 -0.00528051 -0.023148  ]\n",
      "45.2511396993\n"
     ]
    },
    {
     "data": {
      "text/plain": [
       "0.70698118657198994"
      ]
     },
     "execution_count": 23,
     "metadata": {},
     "output_type": "execute_result"
    }
   ],
   "source": [
    "# regression with all 4 features\n",
    "X = data[features]\n",
    "y = data.MPG\n",
    "linreg = LinearRegression()\n",
    "linreg.fit(X,y)\n",
    "print linreg.coef_\n",
    "print linreg.intercept_\n",
    "linreg.score(X, y)"
   ]
  },
  {
   "cell_type": "markdown",
   "metadata": {},
   "source": [
    "The coefficient of determination for the model above is about 0.71.  This can be interpreted as saying that 71% of the variance in the response is explained by the variables in this model."
   ]
  },
  {
   "cell_type": "code",
   "execution_count": 24,
   "metadata": {
    "collapsed": false
   },
   "outputs": [
    {
     "name": "stdout",
     "output_type": "stream",
     "text": [
      "[-0.06005143]\n",
      "35.1206359384\n"
     ]
    },
    {
     "data": {
      "text/plain": [
       "0.64822940031930443"
      ]
     },
     "execution_count": 24,
     "metadata": {},
     "output_type": "execute_result"
    }
   ],
   "source": [
    "# regression with Displacement only\n",
    "X = data[['Displacement']]\n",
    "linreg.fit(X,y)\n",
    "print linreg.coef_\n",
    "print linreg.intercept_\n",
    "linreg.score(X,y)"
   ]
  },
  {
   "cell_type": "code",
   "execution_count": 25,
   "metadata": {
    "collapsed": false
   },
   "outputs": [
    {
     "name": "stdout",
     "output_type": "stream",
     "text": [
      "[-0.15784473]\n",
      "39.9358610212\n"
     ]
    },
    {
     "data": {
      "text/plain": [
       "0.60594825788943507"
      ]
     },
     "execution_count": 25,
     "metadata": {},
     "output_type": "execute_result"
    }
   ],
   "source": [
    "# regression with Horsepower only\n",
    "X = data[['Horsepower']]\n",
    "linreg.fit(X,y)\n",
    "print linreg.coef_\n",
    "print linreg.intercept_\n",
    "linreg.score(X,y)"
   ]
  },
  {
   "cell_type": "code",
   "execution_count": 26,
   "metadata": {
    "collapsed": false
   },
   "outputs": [
    {
     "name": "stdout",
     "output_type": "stream",
     "text": [
      "[-0.00764734]\n",
      "46.216524549\n"
     ]
    },
    {
     "data": {
      "text/plain": [
       "0.69263043312062544"
      ]
     },
     "execution_count": 26,
     "metadata": {},
     "output_type": "execute_result"
    }
   ],
   "source": [
    "# regression with Weight only\n",
    "X = data[['Weight']]\n",
    "linreg.fit(X,y)\n",
    "print linreg.coef_\n",
    "print linreg.intercept_\n",
    "linreg.score(X,y)"
   ]
  },
  {
   "cell_type": "code",
   "execution_count": 27,
   "metadata": {
    "collapsed": false
   },
   "outputs": [
    {
     "name": "stdout",
     "output_type": "stream",
     "text": [
      "[ 1.19762419]\n",
      "4.83324980484\n"
     ]
    },
    {
     "data": {
      "text/plain": [
       "0.1792070501562546"
      ]
     },
     "execution_count": 27,
     "metadata": {},
     "output_type": "execute_result"
    }
   ],
   "source": [
    "# regression with Acceleration only\n",
    "X = data[['Acceleration']]\n",
    "linreg.fit(X,y)\n",
    "print linreg.coef_\n",
    "print linreg.intercept_\n",
    "linreg.score(X,y)"
   ]
  },
  {
   "cell_type": "markdown",
   "metadata": {},
   "source": [
    "Of the four predictors used above, weight is the most effective at predicting MPG.  Its coefficient is about -0.0075, which can be interpreted as indicating that a 1 pound reduction in weight would affect a 0.0075 MPG increase in fuel economy."
   ]
  },
  {
   "cell_type": "markdown",
   "metadata": {},
   "source": [
    "We should still be able to use linear regression even after including the number of cylinders in our feature set.Furthermore, these values have an ordered relationship, so the values should not need to be modified to work correctly as the market area features were in the example.  With this approach, the code is very similar to each of the approaches above, and the resulting model has a coefficient of determination of 0.708, which is slightly higher than any of the previous models, indicating that this models explains just a bit more of the variance."
   ]
  },
  {
   "cell_type": "code",
   "execution_count": 29,
   "metadata": {
    "collapsed": false
   },
   "outputs": [
    {
     "name": "stdout",
     "output_type": "stream",
     "text": [
      "[ -8.31301222e-05  -4.52570802e-02  -5.18691735e-03  -2.91047140e-02\n",
      "  -3.97928359e-01]\n",
      "46.2643078526\n"
     ]
    },
    {
     "data": {
      "text/plain": [
       "0.70769263267705163"
      ]
     },
     "execution_count": 29,
     "metadata": {},
     "output_type": "execute_result"
    }
   ],
   "source": [
    "#regression with displacement, horsepower, weight, acceleration, and cylinders\n",
    "features = ['Displacement','Horsepower', 'Weight', 'Acceleration', 'Cylinders']\n",
    "X = data[features]\n",
    "linreg.fit(X,y)\n",
    "print linreg.coef_\n",
    "print linreg.intercept_\n",
    "linreg.score(X,y)"
   ]
  }
 ],
 "metadata": {
  "kernelspec": {
   "display_name": "Python 2",
   "language": "python",
   "name": "python2"
  },
  "language_info": {
   "codemirror_mode": {
    "name": "ipython",
    "version": 2
   },
   "file_extension": ".py",
   "mimetype": "text/x-python",
   "name": "python",
   "nbconvert_exporter": "python",
   "pygments_lexer": "ipython2",
   "version": "2.7.6"
  }
 },
 "nbformat": 4,
 "nbformat_minor": 0
}
